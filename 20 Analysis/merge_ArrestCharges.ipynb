{
 "cells": [
  {
   "cell_type": "code",
   "execution_count": null,
   "metadata": {},
   "outputs": [],
   "source": [
    "import pandas as pd \n",
    "\n",
    "arrests = pd.read_csv('/Users/clarissaache/Documents/Data+/Small-Town-Policing-Accountability-Data-2022/10 Clean Data/!FINAL RAW DATA.csv')\n",
    "arrests = arrests.drop(columns=['Unnamed: 0', 'X'], axis=1)\n",
    "charges = pd.read_csv('/Users/clarissaache/Documents/Data+/Small-Town-Policing-Accountability-Data-2022/10 Clean Data/CHARGES.csv')\n",
    "\n",
    "arrests = arrests[[\n",
    "'agencyname',\n",
    "'datetimeofarrest',\n",
    "'file',\n",
    "'arrestnumber',\n",
    "'scars_tattoes_bodymarkings_etc',\n",
    "'age',\n",
    "'race',\n",
    "'sex',\n",
    "'citizenship',\n",
    "'skintone',\n",
    "'height',\n",
    "'weight',\n",
    "'haircolor',\n",
    "'eyecolor',\n",
    "'armed',\n",
    "'typeofarrest',\n",
    "'placeofarrest',\n",
    "]]\n",
    "\n",
    "charges = charges.drop(columns=['Unnamed: 0'], axis=1)\n",
    "arr_char = pd.merge(arrests,charges,  on='arrestnumber', validate='m:m', indicator=True)\n",
    "arr_char._merge.value_counts()\n",
    "arr_char = arr_char.drop(columns=['_merge'], axis=1)\n",
    "arr_char.to_csv('/Users/clarissaache/Documents/Data+/Small-Town-Policing-Accountability-Data-2022/10 Clean Data/arrests_charges.csv')"
   ]
  }
 ],
 "metadata": {
  "kernelspec": {
   "display_name": "Python 3.9.6 64-bit",
   "language": "python",
   "name": "python3"
  },
  "language_info": {
   "name": "python",
   "version": "3.9.6"
  },
  "orig_nbformat": 4,
  "vscode": {
   "interpreter": {
    "hash": "31f2aee4e71d21fbe5cf8b01ff0e069b9275f58929596ceb00d14d90e3e16cd6"
   }
  }
 },
 "nbformat": 4,
 "nbformat_minor": 2
}
