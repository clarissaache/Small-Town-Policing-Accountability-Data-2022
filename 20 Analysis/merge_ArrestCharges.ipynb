{
 "cells": [
  {
   "cell_type": "code",
   "execution_count": 1,
   "metadata": {},
   "outputs": [
    {
     "name": "stderr",
     "output_type": "stream",
     "text": [
      "/Users/clarissaache/opt/miniconda3/lib/python3.9/site-packages/IPython/core/interactiveshell.py:3444: DtypeWarning: Columns (52,57,58,60,61,62,63,64,66,67,68,69,72,74,135,136,138,139,140,141,142,144,145,146,147,148,150,151,152,153,154,156,157,158,159,160,162,163,164,165,166,168,169,170,171,172,174,175,176,177,178,180,181,182,183,184,186,187,188,189,190,192,193,194,195,196,198,199,200,201,202,204,205,206,207,208,210,211,212,213,214,216,217,218,219,220,222,223,224,225,226,228,229,230) have mixed types.Specify dtype option on import or set low_memory=False.\n",
      "  exec(code_obj, self.user_global_ns, self.user_ns)\n"
     ]
    }
   ],
   "source": [
    "import pandas as pd \n",
    "\n",
    "arrests = pd.read_csv('/Users/clarissaache/Documents/Data+/Small-Town-Policing-Accountability-Data-2022/10 Clean Data/!FINAL RAW DATA.csv')\n",
    "arrests = arrests.drop(columns=['Unnamed: 0', 'X'], axis=1)\n",
    "charges = pd.read_csv('/Users/clarissaache/Documents/Data+/Small-Town-Policing-Accountability-Data-2022/10 Clean Data/CHARGES.csv')\n",
    "\n",
    "arrests = arrests[[\n",
    "'agencyname',\n",
    "'datetimeofarrest',\n",
    "'file',\n",
    "'arrestnumber',\n",
    "'scars_tattoes_bodymarkings_etc',\n",
    "'age',\n",
    "'race',\n",
    "'sex',\n",
    "'citizenship',\n",
    "'skintone',\n",
    "'height',\n",
    "'weight',\n",
    "'haircolor',\n",
    "'eyecolor',\n",
    "'armed',\n",
    "'typeofarrest',\n",
    "'placeofarrest',\n",
    "]]\n",
    "\n",
    "charges = charges.drop(columns=['Unnamed: 0'], axis=1)\n",
    "arr_char = pd.merge(arrests,charges,  on='arrestnumber', validate='m:m', indicator=True)\n",
    "arr_char._merge.value_counts()\n",
    "arr_char = arr_char.drop(columns=['_merge'], axis=1)\n",
    "\n",
    "arr_char.to_csv('/Users/clarissaache/Documents/Data+/Small-Town-Policing-Accountability-Data-2022/10 Clean Data/arrests_charges.csv')"
   ]
  }
 ],
 "metadata": {
  "kernelspec": {
   "display_name": "Python 3.9.6 ('base')",
   "language": "python",
   "name": "python3"
  },
  "language_info": {
   "codemirror_mode": {
    "name": "ipython",
    "version": 3
   },
   "file_extension": ".py",
   "mimetype": "text/x-python",
   "name": "python",
   "nbconvert_exporter": "python",
   "pygments_lexer": "ipython3",
   "version": "3.9.6"
  },
  "orig_nbformat": 4,
  "vscode": {
   "interpreter": {
    "hash": "0283bb964ddc7e300b47a08868ce4135312740b76df18babb030f16f99693fd6"
   }
  }
 },
 "nbformat": 4,
 "nbformat_minor": 2
}
